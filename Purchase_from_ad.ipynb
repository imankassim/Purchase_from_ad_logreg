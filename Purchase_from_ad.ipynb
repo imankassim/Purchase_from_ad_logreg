{
  "nbformat": 4,
  "nbformat_minor": 0,
  "metadata": {
    "colab": {
      "name": "Purchase-from-ad",
      "provenance": [],
      "collapsed_sections": [],
      "authorship_tag": "ABX9TyMbLpyTXLsYFcvJxXPq5I4i",
      "include_colab_link": true
    },
    "kernelspec": {
      "name": "python3",
      "display_name": "Python 3"
    },
    "accelerator": "GPU"
  },
  "cells": [
    {
      "cell_type": "markdown",
      "metadata": {
        "id": "view-in-github",
        "colab_type": "text"
      },
      "source": [
        "<a href=\"https://colab.research.google.com/github/imankassim/Purchase_from_ad_logreg/blob/master/Purchase_from_ad.ipynb\" target=\"_parent\"><img src=\"https://colab.research.google.com/assets/colab-badge.svg\" alt=\"Open In Colab\"/></a>"
      ]
    },
    {
      "cell_type": "markdown",
      "metadata": {
        "id": "6xUHZNfLnEJW",
        "colab_type": "text"
      },
      "source": [
        "# Buying items from advertisements on social media"
      ]
    },
    {
      "cell_type": "markdown",
      "metadata": {
        "id": "Plw8i7i_MioI",
        "colab_type": "text"
      },
      "source": [
        "# DATA\n",
        "The dataset comes from Kaggle, and is data collected from an ad company advertising their products (T-Shirts) online. The data shows whether or not a social media user who viewed the ad bought the product or not.\n",
        "\n",
        "This analysis can be used to focus ads on one specific group of people in order to keep costs down.\n",
        "\n",
        "I will be using a logistic regession model for the classification - where the goal is to predict whether the user will purchase the item or not."
      ]
    },
    {
      "cell_type": "code",
      "metadata": {
        "id": "lzljn7jNa9wt",
        "colab_type": "code",
        "colab": {
          "base_uri": "https://localhost:8080/",
          "height": 51
        },
        "outputId": "79d2ae87-92d5-41a1-d0c0-4a9dde084bd6"
      },
      "source": [
        "import pandas as pd\n",
        "import numpy as np\n",
        "from sklearn import preprocessing\n",
        "import matplotlib.pyplot as plt \n",
        "plt.rc(\"font\", size=14)\n",
        "from sklearn.linear_model import LogisticRegression\n",
        "from sklearn.model_selection import train_test_split\n",
        "import seaborn as sns\n",
        "sns.set(style=\"white\")\n",
        "sns.set(style=\"whitegrid\", color_codes=True)"
      ],
      "execution_count": 3,
      "outputs": [
        {
          "output_type": "stream",
          "text": [
            "/usr/local/lib/python3.6/dist-packages/statsmodels/tools/_testing.py:19: FutureWarning: pandas.util.testing is deprecated. Use the functions in the public API at pandas.testing instead.\n",
            "  import pandas.util.testing as tm\n"
          ],
          "name": "stderr"
        }
      ]
    },
    {
      "cell_type": "code",
      "metadata": {
        "id": "qT3f5wdgEZKJ",
        "colab_type": "code",
        "colab": {
          "base_uri": "https://localhost:8080/",
          "height": 51
        },
        "outputId": "7314b09c-49cd-4adb-993c-8675ab892ee7"
      },
      "source": [
        "data=pd.read_csv('https://social-network-ads-dataset.s3.eu-west-2.amazonaws.com/Social_Network_Ads.csv', header=0)\n",
        "data=data.dropna()\n",
        "print(data.shape)\n",
        "print(list(data.columns))"
      ],
      "execution_count": 4,
      "outputs": [
        {
          "output_type": "stream",
          "text": [
            "(400, 5)\n",
            "['User ID', 'Gender', 'Age', 'EstimatedSalary', 'Purchased']\n"
          ],
          "name": "stdout"
        }
      ]
    },
    {
      "cell_type": "code",
      "metadata": {
        "id": "31HfCFtNbV_4",
        "colab_type": "code",
        "colab": {
          "base_uri": "https://localhost:8080/",
          "height": 204
        },
        "outputId": "5b5efdb2-f0cd-4315-e093-e6af625759de"
      },
      "source": [
        "data.head()"
      ],
      "execution_count": 5,
      "outputs": [
        {
          "output_type": "execute_result",
          "data": {
            "text/html": [
              "<div>\n",
              "<style scoped>\n",
              "    .dataframe tbody tr th:only-of-type {\n",
              "        vertical-align: middle;\n",
              "    }\n",
              "\n",
              "    .dataframe tbody tr th {\n",
              "        vertical-align: top;\n",
              "    }\n",
              "\n",
              "    .dataframe thead th {\n",
              "        text-align: right;\n",
              "    }\n",
              "</style>\n",
              "<table border=\"1\" class=\"dataframe\">\n",
              "  <thead>\n",
              "    <tr style=\"text-align: right;\">\n",
              "      <th></th>\n",
              "      <th>User ID</th>\n",
              "      <th>Gender</th>\n",
              "      <th>Age</th>\n",
              "      <th>EstimatedSalary</th>\n",
              "      <th>Purchased</th>\n",
              "    </tr>\n",
              "  </thead>\n",
              "  <tbody>\n",
              "    <tr>\n",
              "      <th>0</th>\n",
              "      <td>15624510</td>\n",
              "      <td>Male</td>\n",
              "      <td>19</td>\n",
              "      <td>19000</td>\n",
              "      <td>0</td>\n",
              "    </tr>\n",
              "    <tr>\n",
              "      <th>1</th>\n",
              "      <td>15810944</td>\n",
              "      <td>Male</td>\n",
              "      <td>35</td>\n",
              "      <td>20000</td>\n",
              "      <td>0</td>\n",
              "    </tr>\n",
              "    <tr>\n",
              "      <th>2</th>\n",
              "      <td>15668575</td>\n",
              "      <td>Female</td>\n",
              "      <td>26</td>\n",
              "      <td>43000</td>\n",
              "      <td>0</td>\n",
              "    </tr>\n",
              "    <tr>\n",
              "      <th>3</th>\n",
              "      <td>15603246</td>\n",
              "      <td>Female</td>\n",
              "      <td>27</td>\n",
              "      <td>57000</td>\n",
              "      <td>0</td>\n",
              "    </tr>\n",
              "    <tr>\n",
              "      <th>4</th>\n",
              "      <td>15804002</td>\n",
              "      <td>Male</td>\n",
              "      <td>19</td>\n",
              "      <td>76000</td>\n",
              "      <td>0</td>\n",
              "    </tr>\n",
              "  </tbody>\n",
              "</table>\n",
              "</div>"
            ],
            "text/plain": [
              "    User ID  Gender  Age  EstimatedSalary  Purchased\n",
              "0  15624510    Male   19            19000          0\n",
              "1  15810944    Male   35            20000          0\n",
              "2  15668575  Female   26            43000          0\n",
              "3  15603246  Female   27            57000          0\n",
              "4  15804002    Male   19            76000          0"
            ]
          },
          "metadata": {
            "tags": []
          },
          "execution_count": 5
        }
      ]
    },
    {
      "cell_type": "code",
      "metadata": {
        "id": "e7FLIulod8y1",
        "colab_type": "code",
        "colab": {}
      },
      "source": [
        "#user ID column has no relevance so deleted\n",
        "del data['User ID']"
      ],
      "execution_count": 6,
      "outputs": []
    },
    {
      "cell_type": "code",
      "metadata": {
        "id": "tVLTe7o6eBMp",
        "colab_type": "code",
        "colab": {
          "base_uri": "https://localhost:8080/",
          "height": 204
        },
        "outputId": "e0441803-ccc7-43b7-ea5d-215459c7dee3"
      },
      "source": [
        "data.head()"
      ],
      "execution_count": 7,
      "outputs": [
        {
          "output_type": "execute_result",
          "data": {
            "text/html": [
              "<div>\n",
              "<style scoped>\n",
              "    .dataframe tbody tr th:only-of-type {\n",
              "        vertical-align: middle;\n",
              "    }\n",
              "\n",
              "    .dataframe tbody tr th {\n",
              "        vertical-align: top;\n",
              "    }\n",
              "\n",
              "    .dataframe thead th {\n",
              "        text-align: right;\n",
              "    }\n",
              "</style>\n",
              "<table border=\"1\" class=\"dataframe\">\n",
              "  <thead>\n",
              "    <tr style=\"text-align: right;\">\n",
              "      <th></th>\n",
              "      <th>Gender</th>\n",
              "      <th>Age</th>\n",
              "      <th>EstimatedSalary</th>\n",
              "      <th>Purchased</th>\n",
              "    </tr>\n",
              "  </thead>\n",
              "  <tbody>\n",
              "    <tr>\n",
              "      <th>0</th>\n",
              "      <td>Male</td>\n",
              "      <td>19</td>\n",
              "      <td>19000</td>\n",
              "      <td>0</td>\n",
              "    </tr>\n",
              "    <tr>\n",
              "      <th>1</th>\n",
              "      <td>Male</td>\n",
              "      <td>35</td>\n",
              "      <td>20000</td>\n",
              "      <td>0</td>\n",
              "    </tr>\n",
              "    <tr>\n",
              "      <th>2</th>\n",
              "      <td>Female</td>\n",
              "      <td>26</td>\n",
              "      <td>43000</td>\n",
              "      <td>0</td>\n",
              "    </tr>\n",
              "    <tr>\n",
              "      <th>3</th>\n",
              "      <td>Female</td>\n",
              "      <td>27</td>\n",
              "      <td>57000</td>\n",
              "      <td>0</td>\n",
              "    </tr>\n",
              "    <tr>\n",
              "      <th>4</th>\n",
              "      <td>Male</td>\n",
              "      <td>19</td>\n",
              "      <td>76000</td>\n",
              "      <td>0</td>\n",
              "    </tr>\n",
              "  </tbody>\n",
              "</table>\n",
              "</div>"
            ],
            "text/plain": [
              "   Gender  Age  EstimatedSalary  Purchased\n",
              "0    Male   19            19000          0\n",
              "1    Male   35            20000          0\n",
              "2  Female   26            43000          0\n",
              "3  Female   27            57000          0\n",
              "4    Male   19            76000          0"
            ]
          },
          "metadata": {
            "tags": []
          },
          "execution_count": 7
        }
      ]
    },
    {
      "cell_type": "code",
      "metadata": {
        "id": "r9S891TveR3a",
        "colab_type": "code",
        "colab": {}
      },
      "source": [
        "#change male to 1 and female to 2\n",
        "data[\"Gender\"].replace({\"Male\": 1, \"Female\": 2}, inplace=True)"
      ],
      "execution_count": 8,
      "outputs": []
    },
    {
      "cell_type": "code",
      "metadata": {
        "id": "BXM96CAGjfSQ",
        "colab_type": "code",
        "colab": {}
      },
      "source": [
        "#AGE - increments of 14 years\n",
        "#Group ages - 32 and under = 1, 33-46 = 2, 47-60 = 3\n",
        "for i in range(18, 33):\n",
        "  data[\"Age\"].replace({i: 1}, inplace=True)\n",
        "for i in range(33, 47):\n",
        "  data[\"Age\"].replace({i: 2}, inplace=True)\n",
        "for i in range(47, 61):\n",
        "  data[\"Age\"].replace({i: 3}, inplace=True)"
      ],
      "execution_count": 9,
      "outputs": []
    },
    {
      "cell_type": "code",
      "metadata": {
        "id": "MSTZoNlFkKVN",
        "colab_type": "code",
        "colab": {}
      },
      "source": [
        "#Estimated salary\n",
        "#0-19,999 =1, 20,000-29,999 =2 etc\n",
        "for i in range(0, 20000):\n",
        "  data[\"EstimatedSalary\"].replace({i: 1}, inplace=True)\n",
        "for i in range(20000, 30000):\n",
        "  data[\"EstimatedSalary\"].replace({i: 2}, inplace=True)\n",
        "for i in range(30000, 40000):\n",
        "  data[\"EstimatedSalary\"].replace({i: 3}, inplace=True)\n",
        "for i in range(40000, 50000):\n",
        "  data[\"EstimatedSalary\"].replace({i: 4}, inplace=True)\n",
        "for i in range(50000, 60000):\n",
        "  data[\"EstimatedSalary\"].replace({i: 5}, inplace=True)\n",
        "for i in range(60000, 70000):\n",
        "  data[\"EstimatedSalary\"].replace({i: 6}, inplace=True)\n",
        "for i in range(70000, 80000):\n",
        "  data[\"EstimatedSalary\"].replace({i: 7}, inplace=True)\n",
        "for i in range(80000, 90000):\n",
        "  data[\"EstimatedSalary\"].replace({i: 8}, inplace=True)\n",
        "for i in range(90000, 100000):\n",
        "  data[\"EstimatedSalary\"].replace({i: 9}, inplace=True)\n",
        "for i in range(100000, 110000):\n",
        "  data[\"EstimatedSalary\"].replace({i: 10}, inplace=True)\n",
        "for i in range(110000, 120000):\n",
        "  data[\"EstimatedSalary\"].replace({i: 11}, inplace=True)\n",
        "for i in range(120000, 130000):\n",
        "  data[\"EstimatedSalary\"].replace({i: 12}, inplace=True)\n",
        "for i in range(130000, 140000):\n",
        "  data[\"EstimatedSalary\"].replace({i: 13}, inplace=True)\n",
        "for i in range(140000, 150000):\n",
        "  data[\"EstimatedSalary\"].replace({i: 14}, inplace=True)\n",
        "for i in range(150000, 160000):\n",
        "  data[\"EstimatedSalary\"].replace({i: 15}, inplace=True)"
      ],
      "execution_count": 10,
      "outputs": []
    },
    {
      "cell_type": "code",
      "metadata": {
        "id": "2RnkZ4jpel5l",
        "colab_type": "code",
        "colab": {
          "base_uri": "https://localhost:8080/",
          "height": 204
        },
        "outputId": "0087f699-ccae-44b7-dcee-4f374473488d"
      },
      "source": [
        "data.head()"
      ],
      "execution_count": 11,
      "outputs": [
        {
          "output_type": "execute_result",
          "data": {
            "text/html": [
              "<div>\n",
              "<style scoped>\n",
              "    .dataframe tbody tr th:only-of-type {\n",
              "        vertical-align: middle;\n",
              "    }\n",
              "\n",
              "    .dataframe tbody tr th {\n",
              "        vertical-align: top;\n",
              "    }\n",
              "\n",
              "    .dataframe thead th {\n",
              "        text-align: right;\n",
              "    }\n",
              "</style>\n",
              "<table border=\"1\" class=\"dataframe\">\n",
              "  <thead>\n",
              "    <tr style=\"text-align: right;\">\n",
              "      <th></th>\n",
              "      <th>Gender</th>\n",
              "      <th>Age</th>\n",
              "      <th>EstimatedSalary</th>\n",
              "      <th>Purchased</th>\n",
              "    </tr>\n",
              "  </thead>\n",
              "  <tbody>\n",
              "    <tr>\n",
              "      <th>0</th>\n",
              "      <td>1</td>\n",
              "      <td>1</td>\n",
              "      <td>1</td>\n",
              "      <td>0</td>\n",
              "    </tr>\n",
              "    <tr>\n",
              "      <th>1</th>\n",
              "      <td>1</td>\n",
              "      <td>2</td>\n",
              "      <td>2</td>\n",
              "      <td>0</td>\n",
              "    </tr>\n",
              "    <tr>\n",
              "      <th>2</th>\n",
              "      <td>2</td>\n",
              "      <td>1</td>\n",
              "      <td>4</td>\n",
              "      <td>0</td>\n",
              "    </tr>\n",
              "    <tr>\n",
              "      <th>3</th>\n",
              "      <td>2</td>\n",
              "      <td>1</td>\n",
              "      <td>5</td>\n",
              "      <td>0</td>\n",
              "    </tr>\n",
              "    <tr>\n",
              "      <th>4</th>\n",
              "      <td>1</td>\n",
              "      <td>1</td>\n",
              "      <td>7</td>\n",
              "      <td>0</td>\n",
              "    </tr>\n",
              "  </tbody>\n",
              "</table>\n",
              "</div>"
            ],
            "text/plain": [
              "   Gender  Age  EstimatedSalary  Purchased\n",
              "0       1    1                1          0\n",
              "1       1    2                2          0\n",
              "2       2    1                4          0\n",
              "3       2    1                5          0\n",
              "4       1    1                7          0"
            ]
          },
          "metadata": {
            "tags": []
          },
          "execution_count": 11
        }
      ]
    },
    {
      "cell_type": "markdown",
      "metadata": {
        "id": "ejKfwrJnbtAX",
        "colab_type": "text"
      },
      "source": [
        "# DATA EXPLORATION"
      ]
    },
    {
      "cell_type": "code",
      "metadata": {
        "id": "1tudZlvibyV-",
        "colab_type": "code",
        "colab": {
          "base_uri": "https://localhost:8080/",
          "height": 68
        },
        "outputId": "6d080a47-8a68-405d-a306-3a5724eb705e"
      },
      "source": [
        "data['Purchased'].value_counts()"
      ],
      "execution_count": 12,
      "outputs": [
        {
          "output_type": "execute_result",
          "data": {
            "text/plain": [
              "0    257\n",
              "1    143\n",
              "Name: Purchased, dtype: int64"
            ]
          },
          "metadata": {
            "tags": []
          },
          "execution_count": 12
        }
      ]
    },
    {
      "cell_type": "code",
      "metadata": {
        "id": "F4TUNOzdb6Vj",
        "colab_type": "code",
        "colab": {
          "base_uri": "https://localhost:8080/",
          "height": 302
        },
        "outputId": "d6adad99-1bed-4b67-8245-4e930f999e12"
      },
      "source": [
        "sns.countplot(x='Purchased', data=data, palette='hls')\n",
        "plt.show()\n",
        "plt.savefig('count_plot')"
      ],
      "execution_count": 13,
      "outputs": [
        {
          "output_type": "display_data",
          "data": {
            "image/png": "[encoded data removed]",
            "text/plain": [
              "<Figure size 432x288 with 1 Axes>"
            ]
          },
          "metadata": {
            "tags": []
          }
        },
        {
          "output_type": "display_data",
          "data": {
            "text/plain": [
              "<Figure size 432x288 with 0 Axes>"
            ]
          },
          "metadata": {
            "tags": []
          }
        }
      ]
    },
    {
      "cell_type": "code",
      "metadata": {
        "id": "CZHTnER0cJXg",
        "colab_type": "code",
        "colab": {
          "base_uri": "https://localhost:8080/",
          "height": 51
        },
        "outputId": "283adc70-0c9d-4b93-c2d0-e19697596c22"
      },
      "source": [
        "count_no_buy = len(data[data['Purchased']==0])\n",
        "count_buy = len(data[data['Purchased']==1])\n",
        "pct_of_no_buy = count_no_buy/(count_no_buy+count_buy)\n",
        "print(\"percentage of users who bought the product advertised: \", pct_of_no_buy*100)\n",
        "pct_of_buy = count_buy/(count_no_buy+count_buy)\n",
        "print(\"percentage of users who didn't buy the product advertised: \", pct_of_buy*100)"
      ],
      "execution_count": 14,
      "outputs": [
        {
          "output_type": "stream",
          "text": [
            "percentage of users who bought the product advertised:  64.25\n",
            "percentage of users who didn't buy the product advertised:  35.75\n"
          ],
          "name": "stdout"
        }
      ]
    },
    {
      "cell_type": "code",
      "metadata": {
        "id": "p_98sCvgct_z",
        "colab_type": "code",
        "colab": {
          "base_uri": "https://localhost:8080/",
          "height": 142
        },
        "outputId": "c988e2fd-8637-46e8-ac72-354eea397605"
      },
      "source": [
        "data.groupby('Purchased').mean()"
      ],
      "execution_count": 15,
      "outputs": [
        {
          "output_type": "execute_result",
          "data": {
            "text/html": [
              "<div>\n",
              "<style scoped>\n",
              "    .dataframe tbody tr th:only-of-type {\n",
              "        vertical-align: middle;\n",
              "    }\n",
              "\n",
              "    .dataframe tbody tr th {\n",
              "        vertical-align: top;\n",
              "    }\n",
              "\n",
              "    .dataframe thead th {\n",
              "        text-align: right;\n",
              "    }\n",
              "</style>\n",
              "<table border=\"1\" class=\"dataframe\">\n",
              "  <thead>\n",
              "    <tr style=\"text-align: right;\">\n",
              "      <th></th>\n",
              "      <th>Gender</th>\n",
              "      <th>Age</th>\n",
              "      <th>EstimatedSalary</th>\n",
              "    </tr>\n",
              "    <tr>\n",
              "      <th>Purchased</th>\n",
              "      <th></th>\n",
              "      <th></th>\n",
              "      <th></th>\n",
              "    </tr>\n",
              "  </thead>\n",
              "  <tbody>\n",
              "    <tr>\n",
              "      <th>0</th>\n",
              "      <td>1.494163</td>\n",
              "      <td>1.575875</td>\n",
              "      <td>5.622568</td>\n",
              "    </tr>\n",
              "    <tr>\n",
              "      <th>1</th>\n",
              "      <td>1.538462</td>\n",
              "      <td>2.482517</td>\n",
              "      <td>8.181818</td>\n",
              "    </tr>\n",
              "  </tbody>\n",
              "</table>\n",
              "</div>"
            ],
            "text/plain": [
              "             Gender       Age  EstimatedSalary\n",
              "Purchased                                     \n",
              "0          1.494163  1.575875         5.622568\n",
              "1          1.538462  2.482517         8.181818"
            ]
          },
          "metadata": {
            "tags": []
          },
          "execution_count": 15
        }
      ]
    },
    {
      "cell_type": "markdown",
      "metadata": {
        "id": "cjgjHtOoerYK",
        "colab_type": "text"
      },
      "source": [
        "Observations:\n",
        "- On average, more women than men purchased the product in the advertisement\n",
        "- Older people, on average, are more likely to purchase the product\n",
        "- On average, a higher salary makes people more likely to buy the product\n",
        "\n",
        "I will calculate categorical averages for other variables to get a more detailed sense of the data."
      ]
    },
    {
      "cell_type": "code",
      "metadata": {
        "id": "Ac4PaknrfYFe",
        "colab_type": "code",
        "colab": {
          "base_uri": "https://localhost:8080/",
          "height": 142
        },
        "outputId": "62e47ce0-08c9-48d5-c92a-0ec0ca01da75"
      },
      "source": [
        "data.groupby('Gender').mean()"
      ],
      "execution_count": 16,
      "outputs": [
        {
          "output_type": "execute_result",
          "data": {
            "text/html": [
              "<div>\n",
              "<style scoped>\n",
              "    .dataframe tbody tr th:only-of-type {\n",
              "        vertical-align: middle;\n",
              "    }\n",
              "\n",
              "    .dataframe tbody tr th {\n",
              "        vertical-align: top;\n",
              "    }\n",
              "\n",
              "    .dataframe thead th {\n",
              "        text-align: right;\n",
              "    }\n",
              "</style>\n",
              "<table border=\"1\" class=\"dataframe\">\n",
              "  <thead>\n",
              "    <tr style=\"text-align: right;\">\n",
              "      <th></th>\n",
              "      <th>Age</th>\n",
              "      <th>EstimatedSalary</th>\n",
              "      <th>Purchased</th>\n",
              "    </tr>\n",
              "    <tr>\n",
              "      <th>Gender</th>\n",
              "      <th></th>\n",
              "      <th></th>\n",
              "      <th></th>\n",
              "    </tr>\n",
              "  </thead>\n",
              "  <tbody>\n",
              "    <tr>\n",
              "      <th>1</th>\n",
              "      <td>1.841837</td>\n",
              "      <td>6.321429</td>\n",
              "      <td>0.336735</td>\n",
              "    </tr>\n",
              "    <tr>\n",
              "      <th>2</th>\n",
              "      <td>1.955882</td>\n",
              "      <td>6.745098</td>\n",
              "      <td>0.377451</td>\n",
              "    </tr>\n",
              "  </tbody>\n",
              "</table>\n",
              "</div>"
            ],
            "text/plain": [
              "             Age  EstimatedSalary  Purchased\n",
              "Gender                                      \n",
              "1       1.841837         6.321429   0.336735\n",
              "2       1.955882         6.745098   0.377451"
            ]
          },
          "metadata": {
            "tags": []
          },
          "execution_count": 16
        }
      ]
    },
    {
      "cell_type": "code",
      "metadata": {
        "id": "GuoG5Nssfe6r",
        "colab_type": "code",
        "colab": {
          "base_uri": "https://localhost:8080/",
          "height": 173
        },
        "outputId": "0b2613db-80f0-43fc-e924-ea98830f8aff"
      },
      "source": [
        "data.groupby('Age').mean()"
      ],
      "execution_count": 17,
      "outputs": [
        {
          "output_type": "execute_result",
          "data": {
            "text/html": [
              "<div>\n",
              "<style scoped>\n",
              "    .dataframe tbody tr th:only-of-type {\n",
              "        vertical-align: middle;\n",
              "    }\n",
              "\n",
              "    .dataframe tbody tr th {\n",
              "        vertical-align: top;\n",
              "    }\n",
              "\n",
              "    .dataframe thead th {\n",
              "        text-align: right;\n",
              "    }\n",
              "</style>\n",
              "<table border=\"1\" class=\"dataframe\">\n",
              "  <thead>\n",
              "    <tr style=\"text-align: right;\">\n",
              "      <th></th>\n",
              "      <th>Gender</th>\n",
              "      <th>EstimatedSalary</th>\n",
              "      <th>Purchased</th>\n",
              "    </tr>\n",
              "    <tr>\n",
              "      <th>Age</th>\n",
              "      <th></th>\n",
              "      <th></th>\n",
              "      <th></th>\n",
              "    </tr>\n",
              "  </thead>\n",
              "  <tbody>\n",
              "    <tr>\n",
              "      <th>1</th>\n",
              "      <td>1.488550</td>\n",
              "      <td>5.885496</td>\n",
              "      <td>0.091603</td>\n",
              "    </tr>\n",
              "    <tr>\n",
              "      <th>2</th>\n",
              "      <td>1.477528</td>\n",
              "      <td>6.735955</td>\n",
              "      <td>0.280899</td>\n",
              "    </tr>\n",
              "    <tr>\n",
              "      <th>3</th>\n",
              "      <td>1.604396</td>\n",
              "      <td>7.087912</td>\n",
              "      <td>0.890110</td>\n",
              "    </tr>\n",
              "  </tbody>\n",
              "</table>\n",
              "</div>"
            ],
            "text/plain": [
              "       Gender  EstimatedSalary  Purchased\n",
              "Age                                      \n",
              "1    1.488550         5.885496   0.091603\n",
              "2    1.477528         6.735955   0.280899\n",
              "3    1.604396         7.087912   0.890110"
            ]
          },
          "metadata": {
            "tags": []
          },
          "execution_count": 17
        }
      ]
    },
    {
      "cell_type": "code",
      "metadata": {
        "id": "D8O1SWyqfjj7",
        "colab_type": "code",
        "colab": {
          "base_uri": "https://localhost:8080/",
          "height": 545
        },
        "outputId": "08d9dfed-ac15-412e-a284-9044605e91de"
      },
      "source": [
        "data.groupby('EstimatedSalary').mean()"
      ],
      "execution_count": 18,
      "outputs": [
        {
          "output_type": "execute_result",
          "data": {
            "text/html": [
              "<div>\n",
              "<style scoped>\n",
              "    .dataframe tbody tr th:only-of-type {\n",
              "        vertical-align: middle;\n",
              "    }\n",
              "\n",
              "    .dataframe tbody tr th {\n",
              "        vertical-align: top;\n",
              "    }\n",
              "\n",
              "    .dataframe thead th {\n",
              "        text-align: right;\n",
              "    }\n",
              "</style>\n",
              "<table border=\"1\" class=\"dataframe\">\n",
              "  <thead>\n",
              "    <tr style=\"text-align: right;\">\n",
              "      <th></th>\n",
              "      <th>Gender</th>\n",
              "      <th>Age</th>\n",
              "      <th>Purchased</th>\n",
              "    </tr>\n",
              "    <tr>\n",
              "      <th>EstimatedSalary</th>\n",
              "      <th></th>\n",
              "      <th></th>\n",
              "      <th></th>\n",
              "    </tr>\n",
              "  </thead>\n",
              "  <tbody>\n",
              "    <tr>\n",
              "      <th>1</th>\n",
              "      <td>1.333333</td>\n",
              "      <td>1.000000</td>\n",
              "      <td>0.000000</td>\n",
              "    </tr>\n",
              "    <tr>\n",
              "      <th>2</th>\n",
              "      <td>1.526316</td>\n",
              "      <td>2.026316</td>\n",
              "      <td>0.473684</td>\n",
              "    </tr>\n",
              "    <tr>\n",
              "      <th>3</th>\n",
              "      <td>1.588235</td>\n",
              "      <td>2.147059</td>\n",
              "      <td>0.500000</td>\n",
              "    </tr>\n",
              "    <tr>\n",
              "      <th>4</th>\n",
              "      <td>1.548387</td>\n",
              "      <td>2.032258</td>\n",
              "      <td>0.258065</td>\n",
              "    </tr>\n",
              "    <tr>\n",
              "      <th>5</th>\n",
              "      <td>1.448980</td>\n",
              "      <td>1.755102</td>\n",
              "      <td>0.040816</td>\n",
              "    </tr>\n",
              "    <tr>\n",
              "      <th>6</th>\n",
              "      <td>1.531250</td>\n",
              "      <td>1.812500</td>\n",
              "      <td>0.062500</td>\n",
              "    </tr>\n",
              "    <tr>\n",
              "      <th>7</th>\n",
              "      <td>1.403226</td>\n",
              "      <td>1.903226</td>\n",
              "      <td>0.193548</td>\n",
              "    </tr>\n",
              "    <tr>\n",
              "      <th>8</th>\n",
              "      <td>1.490196</td>\n",
              "      <td>1.509804</td>\n",
              "      <td>0.196078</td>\n",
              "    </tr>\n",
              "    <tr>\n",
              "      <th>9</th>\n",
              "      <td>1.571429</td>\n",
              "      <td>2.071429</td>\n",
              "      <td>0.785714</td>\n",
              "    </tr>\n",
              "    <tr>\n",
              "      <th>10</th>\n",
              "      <td>1.500000</td>\n",
              "      <td>2.437500</td>\n",
              "      <td>0.937500</td>\n",
              "    </tr>\n",
              "    <tr>\n",
              "      <th>11</th>\n",
              "      <td>1.750000</td>\n",
              "      <td>1.875000</td>\n",
              "      <td>0.562500</td>\n",
              "    </tr>\n",
              "    <tr>\n",
              "      <th>12</th>\n",
              "      <td>1.375000</td>\n",
              "      <td>2.000000</td>\n",
              "      <td>1.000000</td>\n",
              "    </tr>\n",
              "    <tr>\n",
              "      <th>13</th>\n",
              "      <td>1.764706</td>\n",
              "      <td>2.294118</td>\n",
              "      <td>0.882353</td>\n",
              "    </tr>\n",
              "    <tr>\n",
              "      <th>14</th>\n",
              "      <td>1.533333</td>\n",
              "      <td>2.400000</td>\n",
              "      <td>0.933333</td>\n",
              "    </tr>\n",
              "    <tr>\n",
              "      <th>15</th>\n",
              "      <td>1.500000</td>\n",
              "      <td>2.000000</td>\n",
              "      <td>1.000000</td>\n",
              "    </tr>\n",
              "  </tbody>\n",
              "</table>\n",
              "</div>"
            ],
            "text/plain": [
              "                   Gender       Age  Purchased\n",
              "EstimatedSalary                               \n",
              "1                1.333333  1.000000   0.000000\n",
              "2                1.526316  2.026316   0.473684\n",
              "3                1.588235  2.147059   0.500000\n",
              "4                1.548387  2.032258   0.258065\n",
              "5                1.448980  1.755102   0.040816\n",
              "6                1.531250  1.812500   0.062500\n",
              "7                1.403226  1.903226   0.193548\n",
              "8                1.490196  1.509804   0.196078\n",
              "9                1.571429  2.071429   0.785714\n",
              "10               1.500000  2.437500   0.937500\n",
              "11               1.750000  1.875000   0.562500\n",
              "12               1.375000  2.000000   1.000000\n",
              "13               1.764706  2.294118   0.882353\n",
              "14               1.533333  2.400000   0.933333\n",
              "15               1.500000  2.000000   1.000000"
            ]
          },
          "metadata": {
            "tags": []
          },
          "execution_count": 18
        }
      ]
    },
    {
      "cell_type": "markdown",
      "metadata": {
        "id": "Inpa2MGSfvqX",
        "colab_type": "text"
      },
      "source": [
        "# Visualisations"
      ]
    },
    {
      "cell_type": "code",
      "metadata": {
        "id": "1tbF0t31fzJ3",
        "colab_type": "code",
        "colab": {
          "base_uri": "https://localhost:8080/",
          "height": 298
        },
        "outputId": "959d8020-a51e-4a0c-9085-567e26ff6e55"
      },
      "source": [
        "%matplotlib inline\n",
        "pd.crosstab(data.Gender,data.Purchased).plot(kind='bar', stacked=True)\n",
        "plt.title('Purchase of item in terms of gender')\n",
        "plt.xlabel('Gender')\n",
        "plt.ylabel('Purchase')\n",
        "plt.savefig('purchase_gender')"
      ],
      "execution_count": 19,
      "outputs": [
        {
          "output_type": "display_data",
          "data": {
            "image/png": "[encoded data removed]",
            "text/plain": [
              "<Figure size 432x288 with 1 Axes>"
            ]
          },
          "metadata": {
            "tags": [],
            "needs_background": "light"
          }
        }
      ]
    },
    {
      "cell_type": "code",
      "metadata": {
        "id": "hCYCLcoZgW8m",
        "colab_type": "code",
        "colab": {
          "base_uri": "https://localhost:8080/",
          "height": 298
        },
        "outputId": "623743dc-db51-43d0-d859-8425fb490e97"
      },
      "source": [
        "table=pd.crosstab(data.Age,data.Purchased)\n",
        "table.div(table.sum(1).astype(float), axis=0).plot(kind='bar', stacked=True)\n",
        "plt.title('Purchase of item in terms of age')\n",
        "plt.xlabel('Age')\n",
        "plt.ylabel('Purchase')\n",
        "plt.savefig('purchase_age')"
      ],
      "execution_count": 21,
      "outputs": [
        {
          "output_type": "display_data",
          "data": {
            "image/png": "[encoded data removed]",
            "text/plain": [
              "<Figure size 432x288 with 1 Axes>"
            ]
          },
          "metadata": {
            "tags": [],
            "needs_background": "light"
          }
        }
      ]
    },
    {
      "cell_type": "code",
      "metadata": {
        "id": "LGOvD2C3ebBy",
        "colab_type": "code",
        "colab": {
          "base_uri": "https://localhost:8080/",
          "height": 305
        },
        "outputId": "498ac45c-8eff-497b-89a7-897fc12f6e74"
      },
      "source": [
        "table=pd.crosstab(data.EstimatedSalary,data.Purchased)\n",
        "table.div(table.sum(1).astype(float), axis=0).plot(kind='bar')\n",
        "plt.title('Purchase of item in terms of Estimated Salary')\n",
        "plt.xlabel('Salary (estimate)')\n",
        "plt.ylabel('Purchase')\n",
        "plt.savefig('purchase_salary')"
      ],
      "execution_count": 22,
      "outputs": [
        {
          "output_type": "display_data",
          "data": {
            "image/png": "[encoded data removed]",
            "text/plain": [
              "<Figure size 432x288 with 1 Axes>"
            ]
          },
          "metadata": {
            "tags": [],
            "needs_background": "light"
          }
        }
      ]
    },
    {
      "cell_type": "markdown",
      "metadata": {
        "id": "-NpZj2BcfSqJ",
        "colab_type": "text"
      },
      "source": [
        "Both the Estimated salary AND the age seem like good indicatiors of the outcome variables - however gender does not.\n",
        "\n",
        "Most people who purchased the item are earning an estimated salary of £90,000 +\n",
        "\n",
        "The 47-60 age group were also the biggest purchesers "
      ]
    },
    {
      "cell_type": "markdown",
      "metadata": {
        "id": "90nc5Aeafz3M",
        "colab_type": "text"
      },
      "source": [
        "# Create dummy variables\n",
        "Variables with either a 1 or 0  - this allows us to use a single regression equation instead of a multi-regression equation - keeping it simpler!\n"
      ]
    },
    {
      "cell_type": "code",
      "metadata": {
        "id": "AHVlvrxJgG5c",
        "colab_type": "code",
        "colab": {}
      },
      "source": [
        "cat_vars=['Gender','Age', 'EstimatedSalary']\n",
        "for var in cat_vars:\n",
        "    cat_list='var'+'_'+var\n",
        "    cat_list = pd.get_dummies(data[var], prefix=var)\n",
        "    data1=data.join(cat_list)\n",
        "    data=data1\n",
        "cat_vars=['gender', 'age', 'EstimatedSalary']\n",
        "data_vars=data.columns.values.tolist()\n",
        "to_keep=[i for i in data_vars if i not in cat_vars]"
      ],
      "execution_count": 25,
      "outputs": []
    },
    {
      "cell_type": "code",
      "metadata": {
        "id": "ddxLsD0QgVEw",
        "colab_type": "code",
        "colab": {
          "base_uri": "https://localhost:8080/",
          "height": 136
        },
        "outputId": "12f5625e-fb5c-45c8-d9eb-b35506f29242"
      },
      "source": [
        "data_final=data[to_keep]\n",
        "data_final.columns.values"
      ],
      "execution_count": 26,
      "outputs": [
        {
          "output_type": "execute_result",
          "data": {
            "text/plain": [
              "array(['Gender', 'Age', 'Purchased', 'Gender_1', 'Gender_2', 'Age_1',\n",
              "       'Age_2', 'Age_3', 'EstimatedSalary_1', 'EstimatedSalary_2',\n",
              "       'EstimatedSalary_3', 'EstimatedSalary_4', 'EstimatedSalary_5',\n",
              "       'EstimatedSalary_6', 'EstimatedSalary_7', 'EstimatedSalary_8',\n",
              "       'EstimatedSalary_9', 'EstimatedSalary_10', 'EstimatedSalary_11',\n",
              "       'EstimatedSalary_12', 'EstimatedSalary_13', 'EstimatedSalary_14',\n",
              "       'EstimatedSalary_15'], dtype=object)"
            ]
          },
          "metadata": {
            "tags": []
          },
          "execution_count": 26
        }
      ]
    },
    {
      "cell_type": "markdown",
      "metadata": {
        "id": "a1ASkS3ngxUe",
        "colab_type": "text"
      },
      "source": [
        "# Over-sampling using SMOTE\n",
        "\n",
        "SMOTE, which stands for 'synthetic minority oversampling technique' is used to balance class distribution to solve imbalance problems in the data. It is one of the most common types of oversampling used. Here, it is used to balance my data."
      ]
    },
    {
      "cell_type": "code",
      "metadata": {
        "id": "FBNNOaldiEZz",
        "colab_type": "code",
        "colab": {
          "base_uri": "https://localhost:8080/",
          "height": 425
        },
        "outputId": "f041d9f4-fafe-4709-ffb3-3c49559bec86"
      },
      "source": [
        "data_final.dtypes"
      ],
      "execution_count": 35,
      "outputs": [
        {
          "output_type": "execute_result",
          "data": {
            "text/plain": [
              "Gender                int64\n",
              "Age                   int64\n",
              "Purchased             int64\n",
              "Gender_1              uint8\n",
              "Gender_2              uint8\n",
              "Age_1                 uint8\n",
              "Age_2                 uint8\n",
              "Age_3                 uint8\n",
              "EstimatedSalary_1     uint8\n",
              "EstimatedSalary_2     uint8\n",
              "EstimatedSalary_3     uint8\n",
              "EstimatedSalary_4     uint8\n",
              "EstimatedSalary_5     uint8\n",
              "EstimatedSalary_6     uint8\n",
              "EstimatedSalary_7     uint8\n",
              "EstimatedSalary_8     uint8\n",
              "EstimatedSalary_9     uint8\n",
              "EstimatedSalary_10    uint8\n",
              "EstimatedSalary_11    uint8\n",
              "EstimatedSalary_12    uint8\n",
              "EstimatedSalary_13    uint8\n",
              "EstimatedSalary_14    uint8\n",
              "EstimatedSalary_15    uint8\n",
              "dtype: object"
            ]
          },
          "metadata": {
            "tags": []
          },
          "execution_count": 35
        }
      ]
    },
    {
      "cell_type": "code",
      "metadata": {
        "id": "HF9QFrqfg2FB",
        "colab_type": "code",
        "colab": {
          "base_uri": "https://localhost:8080/",
          "height": 170
        },
        "outputId": "44619282-2626-4151-9963-93d5de42ab40"
      },
      "source": [
        "X = data_final.loc[:, data_final.columns != 'Purchased']\n",
        "y = data_final.loc[:, data_final.columns == 'Purchased']\n",
        "from imblearn.over_sampling import SMOTE\n",
        "os = SMOTE(random_state=0)\n",
        "X_train, X_test, y_train, y_test = train_test_split(X, y, test_size=0.3, random_state=0)\n",
        "columns = X_train.columns\n",
        "os_data_X,os_data_y=os.fit_sample(X_train, y_train)\n",
        "os_data_X = pd.DataFrame(data=os_data_X,columns=columns )\n",
        "os_data_y= pd.DataFrame(data=os_data_y,columns=['Purchased'])\n",
        "# we can Check the numbers of our data\n",
        "print(\"length of oversampled data is \",len(os_data_X))\n",
        "print(\"Number of non-sales in oversampled data\",len(os_data_y[os_data_y['Purchased']==0]))\n",
        "print(\"Number of sales\",len(os_data_y[os_data_y['Purchased']==1]))\n",
        "print(\"Proportion of non-sale data in oversampled data is \",len(os_data_y[os_data_y['Purchased']==0])/len(os_data_X))\n",
        "print(\"Proportion of sale data in oversampled data is \",len(os_data_y[os_data_y['Purchased']==1])/len(os_data_X))"
      ],
      "execution_count": 36,
      "outputs": [
        {
          "output_type": "stream",
          "text": [
            "length of oversampled data is  356\n",
            "Number of non-sales in oversampled data 178\n",
            "Number of sales 178\n",
            "Proportion of non-sale data in oversampled data is  0.5\n",
            "Proportion of sale data in oversampled data is  0.5\n"
          ],
          "name": "stdout"
        },
        {
          "output_type": "stream",
          "text": [
            "/usr/local/lib/python3.6/dist-packages/sklearn/utils/validation.py:760: DataConversionWarning: A column-vector y was passed when a 1d array was expected. Please change the shape of y to (n_samples, ), for example using ravel().\n",
            "  y = column_or_1d(y, warn=True)\n",
            "/usr/local/lib/python3.6/dist-packages/sklearn/utils/deprecation.py:87: FutureWarning: Function safe_indexing is deprecated; safe_indexing is deprecated in version 0.22 and will be removed in version 0.24.\n",
            "  warnings.warn(msg, category=FutureWarning)\n"
          ],
          "name": "stderr"
        }
      ]
    },
    {
      "cell_type": "markdown",
      "metadata": {
        "id": "BATBEjjIi1pb",
        "colab_type": "text"
      },
      "source": [
        "# Recursive Feature Elimination\n",
        "RFE is a feature selection method that fits a model, and removes the weakest features. This allows for the elimination of dependencies and collinearity in the data."
      ]
    },
    {
      "cell_type": "code",
      "metadata": {
        "id": "oXrjMdy8i4Ej",
        "colab_type": "code",
        "colab": {
          "base_uri": "https://localhost:8080/",
          "height": 68
        },
        "outputId": "23b895de-0bf5-4e8a-daa7-3d0d1f67f4d6"
      },
      "source": [
        "data_final_vars=data_final.columns.values.tolist()\n",
        "y=['Purchased']\n",
        "X=[i for i in data_final_vars if i not in y]\n",
        "from sklearn.feature_selection import RFE\n",
        "from sklearn.linear_model import LogisticRegression\n",
        "logreg = LogisticRegression()\n",
        "rfe = RFE(logreg, 20)\n",
        "rfe = rfe.fit(os_data_X, os_data_y.values.ravel())\n",
        "print(rfe.support_)\n",
        "print(rfe.ranking_)"
      ],
      "execution_count": 37,
      "outputs": [
        {
          "output_type": "stream",
          "text": [
            "[ True  True  True  True  True  True  True  True  True  True  True  True\n",
            "  True  True  True  True  True False  True  True  True False]\n",
            "[1 1 1 1 1 1 1 1 1 1 1 1 1 1 1 1 1 2 1 1 1 3]\n"
          ],
          "name": "stdout"
        }
      ]
    },
    {
      "cell_type": "markdown",
      "metadata": {
        "id": "c284VtuXi96L",
        "colab_type": "text"
      },
      "source": [
        "RFE has shown which columns to use and which to remove. This shows I should remove EstimatedSalary_11 and EstimatedSalary_15"
      ]
    },
    {
      "cell_type": "code",
      "metadata": {
        "id": "utdC9UKmjXqE",
        "colab_type": "code",
        "colab": {}
      },
      "source": [
        "cols=['Gender', 'Age', 'Gender_1', 'Gender_2', 'Age_1','Age_2', 'Age_3', 'EstimatedSalary_1', 'EstimatedSalary_2','EstimatedSalary_3', 'EstimatedSalary_4', 'EstimatedSalary_5','EstimatedSalary_6', 'EstimatedSalary_7', 'EstimatedSalary_8','EstimatedSalary_9', 'EstimatedSalary_10', 'EstimatedSalary_12', 'EstimatedSalary_13', 'EstimatedSalary_14']\n",
        "X=os_data_X[cols]\n",
        "y=os_data_y['Purchased']"
      ],
      "execution_count": 38,
      "outputs": []
    },
    {
      "cell_type": "markdown",
      "metadata": {
        "id": "wLyvU9pPjtNS",
        "colab_type": "text"
      },
      "source": [
        "# Implementing the model"
      ]
    },
    {
      "cell_type": "code",
      "metadata": {
        "id": "V6mHuLh_jrST",
        "colab_type": "code",
        "colab": {
          "base_uri": "https://localhost:8080/",
          "height": 901
        },
        "outputId": "90c680c6-1d72-4f1d-f024-825cdca6c4af"
      },
      "source": [
        "import statsmodels.api as sm\n",
        "logit_model=sm.Logit(y,X)\n",
        "result=logit_model.fit()\n",
        "print(result.summary2())"
      ],
      "execution_count": 39,
      "outputs": [
        {
          "output_type": "stream",
          "text": [
            "Warning: Maximum number of iterations has been exceeded.\n",
            "         Current function value: inf\n",
            "         Iterations: 35\n",
            "                                          Results: Logit\n",
            "===================================================================================================\n",
            "Model:                           Logit                        Pseudo R-squared:             -inf   \n",
            "Dependent Variable:              Purchased                    AIC:                          inf    \n",
            "Date:                            2020-09-08 16:31             BIC:                          inf    \n",
            "No. Observations:                356                          Log-Likelihood:               -inf   \n",
            "Df Model:                        18                           LL-Null:                      -246.76\n",
            "Df Residuals:                    337                          LLR p-value:                  1.0000 \n",
            "Converged:                       0.0000                       Scale:                        1.0000 \n",
            "No. Iterations:                  35.0000                                                           \n",
            "---------------------------------------------------------------------------------------------------\n",
            "                        Coef.          Std.Err.       z     P>|z|       [0.025           0.975]    \n",
            "---------------------------------------------------------------------------------------------------\n",
            "Gender               23833954.5665    4737999.2537   5.0304 0.0000    14547646.6705   33120262.4625\n",
            "Age                 -71501574.0892             nan      nan    nan              nan             nan\n",
            "Gender_1            154920067.3974    8476002.5118  18.2775 0.0000   138307407.7414  171532727.0535\n",
            "Gender_2            131086112.3188   10633097.5791  12.3281 0.0000   110245624.0197  151926600.6179\n",
            "Age_1              -107252446.9715    9628229.5371 -11.1394 0.0000  -126123430.0991  -88381463.8439\n",
            "Age_2               -35750870.8398   10333801.1461  -3.4596 0.0005   -56004748.9095  -15496992.7701\n",
            "Age_3                35750706.6308   10754639.4511   3.3242 0.0009    14672000.6399   56829412.6218\n",
            "EstimatedSalary_1         -45.0031 1116269698.4237  -0.0000 1.0000 -2187848450.9470 2187848360.9407\n",
            "EstimatedSalary_2          -2.8099          0.7934  -3.5416 0.0004          -4.3649         -1.2548\n",
            "EstimatedSalary_3          -3.5709          0.8424  -4.2389 0.0000          -5.2220         -1.9198\n",
            "EstimatedSalary_4          -5.3846          0.9939  -5.4177 0.0000          -7.3326         -3.4366\n",
            "EstimatedSalary_5          -6.4172          1.2384  -5.1819 0.0000          -8.8444         -3.9900\n",
            "EstimatedSalary_6          -6.1594          1.3585  -4.5339 0.0000          -8.8221         -3.4968\n",
            "EstimatedSalary_7          -4.2635          0.7141  -5.9704 0.0000          -5.6631         -2.8639\n",
            "EstimatedSalary_8          -3.8416          0.8706  -4.4128 0.0000          -5.5479         -2.1353\n",
            "EstimatedSalary_9          -1.4395          0.9336  -1.5418 0.1231          -3.2693          0.3904\n",
            "EstimatedSalary_10         -0.1734          1.2821  -0.1352 0.8924          -2.6862          2.3395\n",
            "EstimatedSalary_12         18.2099      10331.9918   0.0018 0.9986      -20232.1218      20268.5416\n",
            "EstimatedSalary_13         -0.6507          1.0214  -0.6371 0.5241          -2.6526          1.3512\n",
            "EstimatedSalary_14         -0.1487          1.2242  -0.1214 0.9033          -2.5480          2.2507\n",
            "===================================================================================================\n",
            "\n"
          ],
          "name": "stdout"
        },
        {
          "output_type": "stream",
          "text": [
            "/usr/local/lib/python3.6/dist-packages/statsmodels/discrete/discrete_model.py:1736: RuntimeWarning: overflow encountered in exp\n",
            "  return 1/(1+np.exp(-X))\n",
            "/usr/local/lib/python3.6/dist-packages/statsmodels/discrete/discrete_model.py:1789: RuntimeWarning: divide by zero encountered in log\n",
            "  return np.sum(np.log(self.cdf(q*np.dot(X,params))))\n",
            "/usr/local/lib/python3.6/dist-packages/statsmodels/base/model.py:512: ConvergenceWarning: Maximum Likelihood optimization failed to converge. Check mle_retvals\n",
            "  \"Check mle_retvals\", ConvergenceWarning)\n",
            "/usr/local/lib/python3.6/dist-packages/statsmodels/base/model.py:1286: RuntimeWarning: invalid value encountered in sqrt\n",
            "  bse_ = np.sqrt(np.diag(self.cov_params()))\n",
            "/usr/local/lib/python3.6/dist-packages/scipy/stats/_distn_infrastructure.py:903: RuntimeWarning: invalid value encountered in greater\n",
            "  return (a < x) & (x < b)\n",
            "/usr/local/lib/python3.6/dist-packages/scipy/stats/_distn_infrastructure.py:903: RuntimeWarning: invalid value encountered in less\n",
            "  return (a < x) & (x < b)\n",
            "/usr/local/lib/python3.6/dist-packages/scipy/stats/_distn_infrastructure.py:1912: RuntimeWarning: invalid value encountered in less_equal\n",
            "  cond2 = cond0 & (x <= _a)\n"
          ],
          "name": "stderr"
        }
      ]
    },
    {
      "cell_type": "markdown",
      "metadata": {
        "id": "U39UqZ4-kbDN",
        "colab_type": "text"
      },
      "source": [
        "The p-values for most of the variables are smaller than 0.05, except four variables, therefore, we will remove them. Gender 1 and 2 give NAN values, so I'll remove those too."
      ]
    },
    {
      "cell_type": "code",
      "metadata": {
        "id": "2JwYMMnpkdJ7",
        "colab_type": "code",
        "colab": {}
      },
      "source": [
        "cols=['Gender', 'Age', 'Age_1','Age_2', 'Age_3', 'EstimatedSalary_1', 'EstimatedSalary_2','EstimatedSalary_3', 'EstimatedSalary_4', 'EstimatedSalary_5','EstimatedSalary_6', 'EstimatedSalary_7', 'EstimatedSalary_8','EstimatedSalary_9']\n",
        "X=os_data_X[cols]\n",
        "y=os_data_y['Purchased']"
      ],
      "execution_count": 43,
      "outputs": []
    },
    {
      "cell_type": "code",
      "metadata": {
        "id": "Kcuk2J8VkoMP",
        "colab_type": "code",
        "colab": {
          "base_uri": "https://localhost:8080/",
          "height": 595
        },
        "outputId": "e233e8a8-208c-4ed1-c780-35f7af4aa6b0"
      },
      "source": [
        "logit_model=sm.Logit(y,X)\n",
        "result=logit_model.fit()\n",
        "print(result.summary2())"
      ],
      "execution_count": 44,
      "outputs": [
        {
          "output_type": "stream",
          "text": [
            "Warning: Maximum number of iterations has been exceeded.\n",
            "         Current function value: 0.256387\n",
            "         Iterations: 35\n",
            "                                     Results: Logit\n",
            "=========================================================================================\n",
            "Model:                      Logit                    Pseudo R-squared:         0.630     \n",
            "Dependent Variable:         Purchased                AIC:                      210.5479  \n",
            "Date:                       2020-09-08 16:36         BIC:                      264.7969  \n",
            "No. Observations:           356                      Log-Likelihood:           -91.274   \n",
            "Df Model:                   13                       LL-Null:                  -246.76   \n",
            "Df Residuals:               342                      LLR p-value:              1.2126e-58\n",
            "Converged:                  0.0000                   Scale:                    1.0000    \n",
            "No. Iterations:             35.0000                                                      \n",
            "-----------------------------------------------------------------------------------------\n",
            "                   Coef.      Std.Err.       z    P>|z|       [0.025           0.975]    \n",
            "-----------------------------------------------------------------------------------------\n",
            "Gender             -0.5917         0.3978 -1.4874 0.1369          -1.3713          0.1880\n",
            "Age                10.9188       174.7896  0.0625 0.9502        -331.6625        353.5000\n",
            "Age_1              -9.5481       174.7899 -0.0546 0.9564        -352.1299        333.0338\n",
            "Age_2             -18.3482       349.5785 -0.0525 0.9581        -703.5095        666.8131\n",
            "Age_3             -25.9161       524.3680 -0.0494 0.9606       -1053.6586       1001.8263\n",
            "EstimatedSalary_1 -43.3149 514829997.6362 -0.0000 1.0000 -1009048296.8426 1009048210.2129\n",
            "EstimatedSalary_2  -2.6989         0.6918 -3.9013 0.0001          -4.0548         -1.3430\n",
            "EstimatedSalary_3  -3.4592         0.7442 -4.6482 0.0000          -4.9178         -2.0006\n",
            "EstimatedSalary_4  -5.2594         0.9088 -5.7870 0.0000          -7.0406         -3.4781\n",
            "EstimatedSalary_5  -6.3272         1.1680 -5.4172 0.0000          -8.6165         -4.0380\n",
            "EstimatedSalary_6  -6.0784         1.2998 -4.6763 0.0000          -8.6261         -3.5308\n",
            "EstimatedSalary_7  -4.1775         0.5954 -7.0168 0.0000          -5.3444         -3.0106\n",
            "EstimatedSalary_8  -3.7361         0.7769 -4.8091 0.0000          -5.2588         -2.2134\n",
            "EstimatedSalary_9  -1.3253         0.8484 -1.5620 0.1183          -2.9882          0.3376\n",
            "=========================================================================================\n",
            "\n"
          ],
          "name": "stdout"
        },
        {
          "output_type": "stream",
          "text": [
            "/usr/local/lib/python3.6/dist-packages/statsmodels/base/model.py:512: ConvergenceWarning: Maximum Likelihood optimization failed to converge. Check mle_retvals\n",
            "  \"Check mle_retvals\", ConvergenceWarning)\n"
          ],
          "name": "stderr"
        }
      ]
    },
    {
      "cell_type": "markdown",
      "metadata": {
        "id": "JrY6FRfSk4CW",
        "colab_type": "text"
      },
      "source": [
        "# Logistic Regression Model Fitting"
      ]
    },
    {
      "cell_type": "code",
      "metadata": {
        "id": "BxgTjbhdk6mg",
        "colab_type": "code",
        "colab": {
          "base_uri": "https://localhost:8080/",
          "height": 102
        },
        "outputId": "3d8ff31d-941f-4d8d-b319-4b76ea67ab41"
      },
      "source": [
        "from sklearn.linear_model import LogisticRegression\n",
        "from sklearn import metrics\n",
        "X_train, X_test, y_train, y_test = train_test_split(X, y, test_size=0.3, random_state=0)\n",
        "logreg = LogisticRegression()\n",
        "logreg.fit(X_train, y_train)"
      ],
      "execution_count": 47,
      "outputs": [
        {
          "output_type": "execute_result",
          "data": {
            "text/plain": [
              "LogisticRegression(C=1.0, class_weight=None, dual=False, fit_intercept=True,\n",
              "                   intercept_scaling=1, l1_ratio=None, max_iter=100,\n",
              "                   multi_class='auto', n_jobs=None, penalty='l2',\n",
              "                   random_state=None, solver='lbfgs', tol=0.0001, verbose=0,\n",
              "                   warm_start=False)"
            ]
          },
          "metadata": {
            "tags": []
          },
          "execution_count": 47
        }
      ]
    },
    {
      "cell_type": "markdown",
      "metadata": {
        "id": "eTAUmYUelFFY",
        "colab_type": "text"
      },
      "source": [
        "Predicting the test set results and calculating the accuracy"
      ]
    },
    {
      "cell_type": "code",
      "metadata": {
        "id": "lIxS0MWZlHQd",
        "colab_type": "code",
        "colab": {
          "base_uri": "https://localhost:8080/",
          "height": 34
        },
        "outputId": "ce7f2361-d9b8-4ec1-c218-ccac03c6e230"
      },
      "source": [
        "y_pred = logreg.predict(X_test)\n",
        "print('Accuracy of logistic regression classifier on test set: {:.2f}'.format(logreg.score(X_test, y_test)))"
      ],
      "execution_count": 48,
      "outputs": [
        {
          "output_type": "stream",
          "text": [
            "Accuracy of logistic regression classifier on test set: 0.87\n"
          ],
          "name": "stdout"
        }
      ]
    },
    {
      "cell_type": "markdown",
      "metadata": {
        "id": "9sLaZ6FBlLIe",
        "colab_type": "text"
      },
      "source": [
        "# Confusion Matrix"
      ]
    },
    {
      "cell_type": "code",
      "metadata": {
        "id": "3dMm3yMylNcm",
        "colab_type": "code",
        "colab": {
          "base_uri": "https://localhost:8080/",
          "height": 51
        },
        "outputId": "3b1262e6-605e-482e-a0ba-3c4ff5ab493f"
      },
      "source": [
        "from sklearn.metrics import confusion_matrix\n",
        "confusion_matrix = confusion_matrix(y_test, y_pred)\n",
        "print(confusion_matrix)"
      ],
      "execution_count": 49,
      "outputs": [
        {
          "output_type": "stream",
          "text": [
            "[[47  8]\n",
            " [ 6 46]]\n"
          ],
          "name": "stdout"
        }
      ]
    },
    {
      "cell_type": "markdown",
      "metadata": {
        "id": "8wychQiglQFx",
        "colab_type": "text"
      },
      "source": [
        "The results show there are 47+46 correct predictions and 8+6 incorrect predictions!"
      ]
    },
    {
      "cell_type": "markdown",
      "metadata": {
        "id": "zPLMzeR3laJz",
        "colab_type": "text"
      },
      "source": [
        "# Compute precision, recall, F-measure and support\n",
        "\n",
        "Recall - The total number of True positives and False negatives (finds all positive samples) \n",
        "\n",
        "Support - The number of occurances in the test set"
      ]
    },
    {
      "cell_type": "code",
      "metadata": {
        "id": "2c_rufjdlcwn",
        "colab_type": "code",
        "colab": {
          "base_uri": "https://localhost:8080/",
          "height": 170
        },
        "outputId": "d1e5c8cb-c3b4-4d38-8f46-5515d7998e99"
      },
      "source": [
        "from sklearn.metrics import classification_report\n",
        "print(classification_report(y_test, y_pred))"
      ],
      "execution_count": 50,
      "outputs": [
        {
          "output_type": "stream",
          "text": [
            "              precision    recall  f1-score   support\n",
            "\n",
            "           0       0.89      0.85      0.87        55\n",
            "           1       0.85      0.88      0.87        52\n",
            "\n",
            "    accuracy                           0.87       107\n",
            "   macro avg       0.87      0.87      0.87       107\n",
            "weighted avg       0.87      0.87      0.87       107\n",
            "\n"
          ],
          "name": "stdout"
        }
      ]
    },
    {
      "cell_type": "markdown",
      "metadata": {
        "id": "3OILh25Alk08",
        "colab_type": "text"
      },
      "source": [
        "# ROC Curve\n",
        "This curve is used to show the accuracy of my model in comparison to a standard model"
      ]
    },
    {
      "cell_type": "code",
      "metadata": {
        "id": "9YcErIrvloFp",
        "colab_type": "code",
        "colab": {
          "base_uri": "https://localhost:8080/",
          "height": 301
        },
        "outputId": "5d0a6e86-6bc2-42c1-8181-e4aa054f8afa"
      },
      "source": [
        "from sklearn.metrics import roc_auc_score\n",
        "from sklearn.metrics import roc_curve\n",
        "logit_roc_auc = roc_auc_score(y_test, logreg.predict(X_test))\n",
        "fpr, tpr, thresholds = roc_curve(y_test, logreg.predict_proba(X_test)[:,1])\n",
        "plt.figure()\n",
        "plt.plot(fpr, tpr, label='Logistic Regression (area = %0.2f)' % logit_roc_auc)\n",
        "plt.plot([0, 1], [0, 1],'r--')\n",
        "plt.xlim([0.0, 1.0])\n",
        "plt.ylim([0.0, 1.05])\n",
        "plt.xlabel('False Positive Rate')\n",
        "plt.ylabel('True Positive Rate')\n",
        "plt.title('Receiver operating characteristic')\n",
        "plt.legend(loc=\"lower right\")\n",
        "plt.savefig('Log_ROC')\n",
        "plt.show()"
      ],
      "execution_count": 51,
      "outputs": [
        {
          "output_type": "display_data",
          "data": {
            "image/png": "[encoded data removed]",
            "text/plain": [
              "<Figure size 432x288 with 1 Axes>"
            ]
          },
          "metadata": {
            "tags": [],
            "needs_background": "light"
          }
        }
      ]
    }
  ]
}